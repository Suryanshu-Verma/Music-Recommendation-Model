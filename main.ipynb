{
 "cells": [
  {
   "metadata": {},
   "cell_type": "markdown",
   "source": "# Importing The Libraries",
   "id": "59e392c894ecdfc7"
  },
  {
   "cell_type": "code",
   "id": "initial_id",
   "metadata": {
    "collapsed": true,
    "ExecuteTime": {
     "end_time": "2024-11-10T19:35:51.560052Z",
     "start_time": "2024-11-10T19:35:51.557560Z"
    }
   },
   "source": [
    "import pandas as pd \n",
    "import numpy as np \n",
    "import matplotlib.pyplot as plt \n",
    "import seaborn as sns\n",
    "import nltk\n",
    "from nltk.stem import PorterStemmer\n",
    "from nltk.tokenize import word_tokenize\n",
    "from nltk.stem import WordNetLemmatizer\n",
    "from nltk.corpus import stopwords\n"
   ],
   "outputs": [],
   "execution_count": 5
  },
  {
   "metadata": {},
   "cell_type": "markdown",
   "source": "# Dataset Import ",
   "id": "c8a646686b4eee5f"
  },
  {
   "metadata": {
    "ExecuteTime": {
     "end_time": "2024-11-10T19:35:52.039872Z",
     "start_time": "2024-11-10T19:35:51.567889Z"
    }
   },
   "cell_type": "code",
   "source": "raw_data = pd.read_csv('D:\\\\VSCODE\\\\ML_PROJECT\\\\Dataset\\\\spotify_millsongdata.csv')\n",
   "id": "b0219cbe29476e01",
   "outputs": [],
   "execution_count": 6
  },
  {
   "metadata": {
    "ExecuteTime": {
     "end_time": "2024-11-10T19:35:52.065287Z",
     "start_time": "2024-11-10T19:35:52.047477Z"
    }
   },
   "cell_type": "code",
   "source": "raw_data",
   "id": "a9caa022ee5a4170",
   "outputs": [
    {
     "data": {
      "text/plain": [
       "             artist                   song  \\\n",
       "0              ABBA  Ahe's My Kind Of Girl   \n",
       "1              ABBA       Andante, Andante   \n",
       "2              ABBA         As Good As New   \n",
       "3              ABBA                   Bang   \n",
       "4              ABBA       Bang-A-Boomerang   \n",
       "...             ...                    ...   \n",
       "57645  Ziggy Marley          Good Old Days   \n",
       "57646  Ziggy Marley          Hand To Mouth   \n",
       "57647          Zwan           Come With Me   \n",
       "57648          Zwan                 Desire   \n",
       "57649          Zwan              Heartsong   \n",
       "\n",
       "                                              link  \\\n",
       "0       /a/abba/ahes+my+kind+of+girl_20598417.html   \n",
       "1            /a/abba/andante+andante_20002708.html   \n",
       "2             /a/abba/as+good+as+new_20003033.html   \n",
       "3                       /a/abba/bang_20598415.html   \n",
       "4           /a/abba/bang+a+boomerang_20002668.html   \n",
       "...                                            ...   \n",
       "57645  /z/ziggy+marley/good+old+days_10198588.html   \n",
       "57646  /z/ziggy+marley/hand+to+mouth_20531167.html   \n",
       "57647           /z/zwan/come+with+me_20148981.html   \n",
       "57648                 /z/zwan/desire_20148986.html   \n",
       "57649              /z/zwan/heartsong_20148991.html   \n",
       "\n",
       "                                                    text  \n",
       "0      Look at her face, it's a wonderful face  \\r\\nA...  \n",
       "1      Take it easy with me, please  \\r\\nTouch me gen...  \n",
       "2      I'll never know why I had to go  \\r\\nWhy I had...  \n",
       "3      Making somebody happy is a question of give an...  \n",
       "4      Making somebody happy is a question of give an...  \n",
       "...                                                  ...  \n",
       "57645  Irie days come on play  \\r\\nLet the angels fly...  \n",
       "57646  Power to the workers  \\r\\nMore power  \\r\\nPowe...  \n",
       "57647  all you need  \\r\\nis something i'll believe  \\...  \n",
       "57648  northern star  \\r\\nam i frightened  \\r\\nwhere ...  \n",
       "57649  come in  \\r\\nmake yourself at home  \\r\\ni'm a ...  \n",
       "\n",
       "[57650 rows x 4 columns]"
      ],
      "text/html": [
       "<div>\n",
       "<style scoped>\n",
       "    .dataframe tbody tr th:only-of-type {\n",
       "        vertical-align: middle;\n",
       "    }\n",
       "\n",
       "    .dataframe tbody tr th {\n",
       "        vertical-align: top;\n",
       "    }\n",
       "\n",
       "    .dataframe thead th {\n",
       "        text-align: right;\n",
       "    }\n",
       "</style>\n",
       "<table border=\"1\" class=\"dataframe\">\n",
       "  <thead>\n",
       "    <tr style=\"text-align: right;\">\n",
       "      <th></th>\n",
       "      <th>artist</th>\n",
       "      <th>song</th>\n",
       "      <th>link</th>\n",
       "      <th>text</th>\n",
       "    </tr>\n",
       "  </thead>\n",
       "  <tbody>\n",
       "    <tr>\n",
       "      <th>0</th>\n",
       "      <td>ABBA</td>\n",
       "      <td>Ahe's My Kind Of Girl</td>\n",
       "      <td>/a/abba/ahes+my+kind+of+girl_20598417.html</td>\n",
       "      <td>Look at her face, it's a wonderful face  \\r\\nA...</td>\n",
       "    </tr>\n",
       "    <tr>\n",
       "      <th>1</th>\n",
       "      <td>ABBA</td>\n",
       "      <td>Andante, Andante</td>\n",
       "      <td>/a/abba/andante+andante_20002708.html</td>\n",
       "      <td>Take it easy with me, please  \\r\\nTouch me gen...</td>\n",
       "    </tr>\n",
       "    <tr>\n",
       "      <th>2</th>\n",
       "      <td>ABBA</td>\n",
       "      <td>As Good As New</td>\n",
       "      <td>/a/abba/as+good+as+new_20003033.html</td>\n",
       "      <td>I'll never know why I had to go  \\r\\nWhy I had...</td>\n",
       "    </tr>\n",
       "    <tr>\n",
       "      <th>3</th>\n",
       "      <td>ABBA</td>\n",
       "      <td>Bang</td>\n",
       "      <td>/a/abba/bang_20598415.html</td>\n",
       "      <td>Making somebody happy is a question of give an...</td>\n",
       "    </tr>\n",
       "    <tr>\n",
       "      <th>4</th>\n",
       "      <td>ABBA</td>\n",
       "      <td>Bang-A-Boomerang</td>\n",
       "      <td>/a/abba/bang+a+boomerang_20002668.html</td>\n",
       "      <td>Making somebody happy is a question of give an...</td>\n",
       "    </tr>\n",
       "    <tr>\n",
       "      <th>...</th>\n",
       "      <td>...</td>\n",
       "      <td>...</td>\n",
       "      <td>...</td>\n",
       "      <td>...</td>\n",
       "    </tr>\n",
       "    <tr>\n",
       "      <th>57645</th>\n",
       "      <td>Ziggy Marley</td>\n",
       "      <td>Good Old Days</td>\n",
       "      <td>/z/ziggy+marley/good+old+days_10198588.html</td>\n",
       "      <td>Irie days come on play  \\r\\nLet the angels fly...</td>\n",
       "    </tr>\n",
       "    <tr>\n",
       "      <th>57646</th>\n",
       "      <td>Ziggy Marley</td>\n",
       "      <td>Hand To Mouth</td>\n",
       "      <td>/z/ziggy+marley/hand+to+mouth_20531167.html</td>\n",
       "      <td>Power to the workers  \\r\\nMore power  \\r\\nPowe...</td>\n",
       "    </tr>\n",
       "    <tr>\n",
       "      <th>57647</th>\n",
       "      <td>Zwan</td>\n",
       "      <td>Come With Me</td>\n",
       "      <td>/z/zwan/come+with+me_20148981.html</td>\n",
       "      <td>all you need  \\r\\nis something i'll believe  \\...</td>\n",
       "    </tr>\n",
       "    <tr>\n",
       "      <th>57648</th>\n",
       "      <td>Zwan</td>\n",
       "      <td>Desire</td>\n",
       "      <td>/z/zwan/desire_20148986.html</td>\n",
       "      <td>northern star  \\r\\nam i frightened  \\r\\nwhere ...</td>\n",
       "    </tr>\n",
       "    <tr>\n",
       "      <th>57649</th>\n",
       "      <td>Zwan</td>\n",
       "      <td>Heartsong</td>\n",
       "      <td>/z/zwan/heartsong_20148991.html</td>\n",
       "      <td>come in  \\r\\nmake yourself at home  \\r\\ni'm a ...</td>\n",
       "    </tr>\n",
       "  </tbody>\n",
       "</table>\n",
       "<p>57650 rows × 4 columns</p>\n",
       "</div>"
      ]
     },
     "execution_count": 7,
     "metadata": {},
     "output_type": "execute_result"
    }
   ],
   "execution_count": 7
  },
  {
   "metadata": {
    "ExecuteTime": {
     "end_time": "2024-11-10T19:35:52.103985Z",
     "start_time": "2024-11-10T19:35:52.095277Z"
    }
   },
   "cell_type": "code",
   "source": [
    "# Is NUll\n",
    "raw_data.isnull().sum()"
   ],
   "id": "6821b047f1c2370",
   "outputs": [
    {
     "data": {
      "text/plain": [
       "artist    0\n",
       "song      0\n",
       "link      0\n",
       "text      0\n",
       "dtype: int64"
      ]
     },
     "execution_count": 8,
     "metadata": {},
     "output_type": "execute_result"
    }
   ],
   "execution_count": 8
  },
  {
   "metadata": {
    "ExecuteTime": {
     "end_time": "2024-11-10T19:35:52.163157Z",
     "start_time": "2024-11-10T19:35:52.156752Z"
    }
   },
   "cell_type": "code",
   "source": [
    "# Taking Sample of dataset because of insufficent memory space\n",
    "df = raw_data.sample(12323).drop(columns=['link'], axis= 1).reset_index(drop=True)"
   ],
   "id": "a21a21263878037b",
   "outputs": [],
   "execution_count": 9
  },
  {
   "metadata": {
    "ExecuteTime": {
     "end_time": "2024-11-10T19:35:52.215116Z",
     "start_time": "2024-11-10T19:35:52.210920Z"
    }
   },
   "cell_type": "code",
   "source": "df",
   "id": "b5c0e4f7ba3533d4",
   "outputs": [
    {
     "data": {
      "text/plain": [
       "                artist                  song  \\\n",
       "0          The Monkees        Magnolia Simms   \n",
       "1        Kenny Loggins  Beauty And The Beast   \n",
       "2        Great Big Sea             Sally Ann   \n",
       "3            Marillion             This Town   \n",
       "4         Culture Club           Stormkeeper   \n",
       "...                ...                   ...   \n",
       "12318        Marillion   Hope For The Future   \n",
       "12319  George Harrison         Devil's Radio   \n",
       "12320    Nat King Cole           All For You   \n",
       "12321           O.A.R.              Ladanday   \n",
       "12322      Evanescence              Anywhere   \n",
       "\n",
       "                                                    text  \n",
       "0      By Michael Nesmith  \\r\\nLove to me is blue-eye...  \n",
       "1      Tale as old as time  \\r\\nTrue as it can be  \\r...  \n",
       "2      All eyes on Her from dawn till dusk  \\r\\nHangi...  \n",
       "3      The cars leave their trails of hot and cold li...  \n",
       "4      Ooh I have love sweeter than lies  \\r\\nGave yo...  \n",
       "...                                                  ...  \n",
       "12318  I've been feeling kind of down and loose  \\r\\n...  \n",
       "12319  Gossip, gossip  \\r\\nGossip, gossip  \\r\\n  \\r\\n...  \n",
       "12320  When you raise your eyes and make believe,  \\r...  \n",
       "12321  Now Peter sat on the mountaintop  \\r\\nNorthern...  \n",
       "12322  Dear my love, haven't you wanted to be with me...  \n",
       "\n",
       "[12323 rows x 3 columns]"
      ],
      "text/html": [
       "<div>\n",
       "<style scoped>\n",
       "    .dataframe tbody tr th:only-of-type {\n",
       "        vertical-align: middle;\n",
       "    }\n",
       "\n",
       "    .dataframe tbody tr th {\n",
       "        vertical-align: top;\n",
       "    }\n",
       "\n",
       "    .dataframe thead th {\n",
       "        text-align: right;\n",
       "    }\n",
       "</style>\n",
       "<table border=\"1\" class=\"dataframe\">\n",
       "  <thead>\n",
       "    <tr style=\"text-align: right;\">\n",
       "      <th></th>\n",
       "      <th>artist</th>\n",
       "      <th>song</th>\n",
       "      <th>text</th>\n",
       "    </tr>\n",
       "  </thead>\n",
       "  <tbody>\n",
       "    <tr>\n",
       "      <th>0</th>\n",
       "      <td>The Monkees</td>\n",
       "      <td>Magnolia Simms</td>\n",
       "      <td>By Michael Nesmith  \\r\\nLove to me is blue-eye...</td>\n",
       "    </tr>\n",
       "    <tr>\n",
       "      <th>1</th>\n",
       "      <td>Kenny Loggins</td>\n",
       "      <td>Beauty And The Beast</td>\n",
       "      <td>Tale as old as time  \\r\\nTrue as it can be  \\r...</td>\n",
       "    </tr>\n",
       "    <tr>\n",
       "      <th>2</th>\n",
       "      <td>Great Big Sea</td>\n",
       "      <td>Sally Ann</td>\n",
       "      <td>All eyes on Her from dawn till dusk  \\r\\nHangi...</td>\n",
       "    </tr>\n",
       "    <tr>\n",
       "      <th>3</th>\n",
       "      <td>Marillion</td>\n",
       "      <td>This Town</td>\n",
       "      <td>The cars leave their trails of hot and cold li...</td>\n",
       "    </tr>\n",
       "    <tr>\n",
       "      <th>4</th>\n",
       "      <td>Culture Club</td>\n",
       "      <td>Stormkeeper</td>\n",
       "      <td>Ooh I have love sweeter than lies  \\r\\nGave yo...</td>\n",
       "    </tr>\n",
       "    <tr>\n",
       "      <th>...</th>\n",
       "      <td>...</td>\n",
       "      <td>...</td>\n",
       "      <td>...</td>\n",
       "    </tr>\n",
       "    <tr>\n",
       "      <th>12318</th>\n",
       "      <td>Marillion</td>\n",
       "      <td>Hope For The Future</td>\n",
       "      <td>I've been feeling kind of down and loose  \\r\\n...</td>\n",
       "    </tr>\n",
       "    <tr>\n",
       "      <th>12319</th>\n",
       "      <td>George Harrison</td>\n",
       "      <td>Devil's Radio</td>\n",
       "      <td>Gossip, gossip  \\r\\nGossip, gossip  \\r\\n  \\r\\n...</td>\n",
       "    </tr>\n",
       "    <tr>\n",
       "      <th>12320</th>\n",
       "      <td>Nat King Cole</td>\n",
       "      <td>All For You</td>\n",
       "      <td>When you raise your eyes and make believe,  \\r...</td>\n",
       "    </tr>\n",
       "    <tr>\n",
       "      <th>12321</th>\n",
       "      <td>O.A.R.</td>\n",
       "      <td>Ladanday</td>\n",
       "      <td>Now Peter sat on the mountaintop  \\r\\nNorthern...</td>\n",
       "    </tr>\n",
       "    <tr>\n",
       "      <th>12322</th>\n",
       "      <td>Evanescence</td>\n",
       "      <td>Anywhere</td>\n",
       "      <td>Dear my love, haven't you wanted to be with me...</td>\n",
       "    </tr>\n",
       "  </tbody>\n",
       "</table>\n",
       "<p>12323 rows × 3 columns</p>\n",
       "</div>"
      ]
     },
     "execution_count": 10,
     "metadata": {},
     "output_type": "execute_result"
    }
   ],
   "execution_count": 10
  },
  {
   "metadata": {
    "ExecuteTime": {
     "end_time": "2024-11-10T19:35:52.436931Z",
     "start_time": "2024-11-10T19:35:52.433998Z"
    }
   },
   "cell_type": "code",
   "source": "df['text'][0]",
   "id": "7b8591108b0d52c9",
   "outputs": [
    {
     "data": {
      "text/plain": [
       "\"By Michael Nesmith  \\r\\nLove to me is blue-eyed and blonde.  \\r\\nOh, that's sweet Magnolia.  \\r\\nApple pie on the window still warm.  \\r\\nThat's my sweet Magnolia  \\r\\n  \\r\\nWalking under a sky that's so blue  \\r\\nAfter rain has fallen.  \\r\\nWhen she's walking so close by my side  \\r\\nMy troubles seem to just run and hide.  \\r\\n  \\r\\n[la-dee, da-dumb, etc.]  \\r\\nWell, walking under a sky that's so blue  \\r\\nAfter rain has fallen.  \\r\\nWhen she's walking so close by my side  \\r\\nMy troubles seem to just run and hide.  \\r\\n  \\r\\nMagnolia Simms is my little doll.  \\r\\nI can't live without her.  \\r\\nFor if she goes my world will just fall.  \\r\\nStay with me, Magnolia.  \\r\\n[Sound of record skipping]  \\r\\nStay with me, Magnolia.\\r\\n\\r\\n\""
      ]
     },
     "execution_count": 11,
     "metadata": {},
     "output_type": "execute_result"
    }
   ],
   "execution_count": 11
  },
  {
   "metadata": {
    "ExecuteTime": {
     "end_time": "2024-11-10T19:35:52.543904Z",
     "start_time": "2024-11-10T19:35:52.487671Z"
    }
   },
   "cell_type": "code",
   "source": [
    "# data processing \n",
    "df['text'] = df['text'].str.lower().replace(r\"^\\w\\s\", '',regex=True).replace(r\"\\r\\n\",', ',regex=True)"
   ],
   "id": "bcbb5ce54abb26a7",
   "outputs": [],
   "execution_count": 12
  },
  {
   "metadata": {
    "ExecuteTime": {
     "end_time": "2024-11-10T19:35:52.591544Z",
     "start_time": "2024-11-10T19:35:52.587538Z"
    }
   },
   "cell_type": "code",
   "source": "df",
   "id": "b59d529bcbb553a1",
   "outputs": [
    {
     "data": {
      "text/plain": [
       "                artist                  song  \\\n",
       "0          The Monkees        Magnolia Simms   \n",
       "1        Kenny Loggins  Beauty And The Beast   \n",
       "2        Great Big Sea             Sally Ann   \n",
       "3            Marillion             This Town   \n",
       "4         Culture Club           Stormkeeper   \n",
       "...                ...                   ...   \n",
       "12318        Marillion   Hope For The Future   \n",
       "12319  George Harrison         Devil's Radio   \n",
       "12320    Nat King Cole           All For You   \n",
       "12321           O.A.R.              Ladanday   \n",
       "12322      Evanescence              Anywhere   \n",
       "\n",
       "                                                    text  \n",
       "0      by michael nesmith  , love to me is blue-eyed ...  \n",
       "1      tale as old as time  , true as it can be  , ba...  \n",
       "2      all eyes on her from dawn till dusk  , hanging...  \n",
       "3      the cars leave their trails of hot and cold li...  \n",
       "4      ooh i have love sweeter than lies  , gave you ...  \n",
       "...                                                  ...  \n",
       "12318  i've been feeling kind of down and loose  , li...  \n",
       "12319  gossip, gossip  , gossip, gossip  ,   , i hear...  \n",
       "12320  when you raise your eyes and make believe,  , ...  \n",
       "12321  now peter sat on the mountaintop  , northern w...  \n",
       "12322  dear my love, haven't you wanted to be with me...  \n",
       "\n",
       "[12323 rows x 3 columns]"
      ],
      "text/html": [
       "<div>\n",
       "<style scoped>\n",
       "    .dataframe tbody tr th:only-of-type {\n",
       "        vertical-align: middle;\n",
       "    }\n",
       "\n",
       "    .dataframe tbody tr th {\n",
       "        vertical-align: top;\n",
       "    }\n",
       "\n",
       "    .dataframe thead th {\n",
       "        text-align: right;\n",
       "    }\n",
       "</style>\n",
       "<table border=\"1\" class=\"dataframe\">\n",
       "  <thead>\n",
       "    <tr style=\"text-align: right;\">\n",
       "      <th></th>\n",
       "      <th>artist</th>\n",
       "      <th>song</th>\n",
       "      <th>text</th>\n",
       "    </tr>\n",
       "  </thead>\n",
       "  <tbody>\n",
       "    <tr>\n",
       "      <th>0</th>\n",
       "      <td>The Monkees</td>\n",
       "      <td>Magnolia Simms</td>\n",
       "      <td>by michael nesmith  , love to me is blue-eyed ...</td>\n",
       "    </tr>\n",
       "    <tr>\n",
       "      <th>1</th>\n",
       "      <td>Kenny Loggins</td>\n",
       "      <td>Beauty And The Beast</td>\n",
       "      <td>tale as old as time  , true as it can be  , ba...</td>\n",
       "    </tr>\n",
       "    <tr>\n",
       "      <th>2</th>\n",
       "      <td>Great Big Sea</td>\n",
       "      <td>Sally Ann</td>\n",
       "      <td>all eyes on her from dawn till dusk  , hanging...</td>\n",
       "    </tr>\n",
       "    <tr>\n",
       "      <th>3</th>\n",
       "      <td>Marillion</td>\n",
       "      <td>This Town</td>\n",
       "      <td>the cars leave their trails of hot and cold li...</td>\n",
       "    </tr>\n",
       "    <tr>\n",
       "      <th>4</th>\n",
       "      <td>Culture Club</td>\n",
       "      <td>Stormkeeper</td>\n",
       "      <td>ooh i have love sweeter than lies  , gave you ...</td>\n",
       "    </tr>\n",
       "    <tr>\n",
       "      <th>...</th>\n",
       "      <td>...</td>\n",
       "      <td>...</td>\n",
       "      <td>...</td>\n",
       "    </tr>\n",
       "    <tr>\n",
       "      <th>12318</th>\n",
       "      <td>Marillion</td>\n",
       "      <td>Hope For The Future</td>\n",
       "      <td>i've been feeling kind of down and loose  , li...</td>\n",
       "    </tr>\n",
       "    <tr>\n",
       "      <th>12319</th>\n",
       "      <td>George Harrison</td>\n",
       "      <td>Devil's Radio</td>\n",
       "      <td>gossip, gossip  , gossip, gossip  ,   , i hear...</td>\n",
       "    </tr>\n",
       "    <tr>\n",
       "      <th>12320</th>\n",
       "      <td>Nat King Cole</td>\n",
       "      <td>All For You</td>\n",
       "      <td>when you raise your eyes and make believe,  , ...</td>\n",
       "    </tr>\n",
       "    <tr>\n",
       "      <th>12321</th>\n",
       "      <td>O.A.R.</td>\n",
       "      <td>Ladanday</td>\n",
       "      <td>now peter sat on the mountaintop  , northern w...</td>\n",
       "    </tr>\n",
       "    <tr>\n",
       "      <th>12322</th>\n",
       "      <td>Evanescence</td>\n",
       "      <td>Anywhere</td>\n",
       "      <td>dear my love, haven't you wanted to be with me...</td>\n",
       "    </tr>\n",
       "  </tbody>\n",
       "</table>\n",
       "<p>12323 rows × 3 columns</p>\n",
       "</div>"
      ]
     },
     "execution_count": 13,
     "metadata": {},
     "output_type": "execute_result"
    }
   ],
   "execution_count": 13
  },
  {
   "metadata": {},
   "cell_type": "markdown",
   "source": "# Stemmer",
   "id": "10f9e7831afbbc7b"
  },
  {
   "metadata": {
    "ExecuteTime": {
     "end_time": "2024-11-10T19:35:52.680431Z",
     "start_time": "2024-11-10T19:35:52.678521Z"
    }
   },
   "cell_type": "code",
   "source": [
    "# NLTK\n",
    "import nltk\n",
    "from nltk.stem.porter import PorterStemmer\n",
    "stemmer = PorterStemmer()"
   ],
   "id": "dac59928fddad6cb",
   "outputs": [],
   "execution_count": 14
  },
  {
   "metadata": {
    "ExecuteTime": {
     "end_time": "2024-11-10T19:35:52.741141Z",
     "start_time": "2024-11-10T19:35:52.739371Z"
    }
   },
   "cell_type": "code",
   "source": [
    "# Define the tokenizer and stemmer function\n",
    "def token(text):\n",
    "    tokens = nltk.word_tokenize(text)  # Tokenize the text\n",
    "    stemmed_words = [stemmer.stem(item) for item in tokens]  # Apply stemming\n",
    "    return \" \".join(stemmed_words)  # Join the stemmed words into a single string"
   ],
   "id": "e2f68295ddc98a8",
   "outputs": [],
   "execution_count": 15
  },
  {
   "metadata": {
    "ExecuteTime": {
     "end_time": "2024-11-10T19:35:52.792734Z",
     "start_time": "2024-11-10T19:35:52.778369Z"
    }
   },
   "cell_type": "code",
   "source": "token(\"You are amazing and your work is amazing.\")",
   "id": "4c4cc157785073aa",
   "outputs": [
    {
     "data": {
      "text/plain": [
       "'you are amaz and your work is amaz .'"
      ]
     },
     "execution_count": 16,
     "metadata": {},
     "output_type": "execute_result"
    }
   ],
   "execution_count": 16
  },
  {
   "metadata": {},
   "cell_type": "markdown",
   "source": "# Lemmatizer ",
   "id": "cf64d6f851e6bfa"
  },
  {
   "metadata": {
    "ExecuteTime": {
     "end_time": "2024-11-10T19:35:52.840862Z",
     "start_time": "2024-11-10T19:35:52.839072Z"
    }
   },
   "cell_type": "code",
   "source": [
    "# Initialize the lemmatizer\n",
    "lemmatizer = WordNetLemmatizer()\n",
    "\n",
    "# Define the lemmatization function\n",
    "def lemmatize_sentence(sentence):\n",
    "    # Tokenize the sentence\n",
    "    tokens = word_tokenize(sentence)\n",
    "    \n",
    "    # Lemmatize each token with verb POS (part of speech) for best results with verbs\n",
    "    lemmatized_words = [lemmatizer.lemmatize(word, pos=\"v\") for word in tokens]\n",
    "    \n",
    "    return lemmatized_words"
   ],
   "id": "5940587b37cdb210",
   "outputs": [],
   "execution_count": 17
  },
  {
   "metadata": {},
   "cell_type": "markdown",
   "source": "# TF-IDF (Term Frequency-Inverse Document Frequency) Vectorizer : Evaluate how important a word is to a document within a collection (or corpus) of documents ",
   "id": "3062f9c90baee2b5"
  },
  {
   "metadata": {
    "ExecuteTime": {
     "end_time": "2024-11-10T19:36:08.503306Z",
     "start_time": "2024-11-10T19:35:52.851737Z"
    }
   },
   "cell_type": "code",
   "source": [
    "# Stemming Vectorization\n",
    "token_df = df['text'].apply(lambda x : token(x))"
   ],
   "id": "752d3ffc74904128",
   "outputs": [],
   "execution_count": 18
  },
  {
   "metadata": {
    "ExecuteTime": {
     "end_time": "2024-11-10T19:36:08.512149Z",
     "start_time": "2024-11-10T19:36:08.510365Z"
    }
   },
   "cell_type": "code",
   "source": [
    "# # Lemmatize Vectorization\n",
    "# lemmatize_df = df['text'].apply(lambda x : lemmatize_sentence(x))"
   ],
   "id": "32e973a312a7f5bb",
   "outputs": [],
   "execution_count": 19
  },
  {
   "metadata": {
    "ExecuteTime": {
     "end_time": "2024-11-10T19:36:08.524015Z",
     "start_time": "2024-11-10T19:36:08.517805Z"
    }
   },
   "cell_type": "code",
   "source": "token_df[0]",
   "id": "151246d877393868",
   "outputs": [
    {
     "data": {
      "text/plain": [
       "\"by michael nesmith , love to me is blue-ey and blond . , oh , that 's sweet magnolia . , appl pie on the window still warm . , that 's my sweet magnolia , , walk under a sky that 's so blue , after rain ha fallen . , when she 's walk so close by my side , my troubl seem to just run and hide . , , [ la-de , da-dumb , etc . ] , well , walk under a sky that 's so blue , after rain ha fallen . , when she 's walk so close by my side , my troubl seem to just run and hide . , , magnolia simm is my littl doll . , i ca n't live without her . , for if she goe my world will just fall . , stay with me , magnolia . , [ sound of record skip ] , stay with me , magnolia. , ,\""
      ]
     },
     "execution_count": 20,
     "metadata": {},
     "output_type": "execute_result"
    }
   ],
   "execution_count": 20
  },
  {
   "metadata": {
    "ExecuteTime": {
     "end_time": "2024-11-10T19:36:08.543833Z",
     "start_time": "2024-11-10T19:36:08.542178Z"
    }
   },
   "cell_type": "code",
   "source": [
    "# TF-IDF Vectorizer and cosine_similarity \n",
    "from sklearn.feature_extraction.text import TfidfVectorizer\n",
    "from sklearn.metrics.pairwise import cosine_similarity "
   ],
   "id": "9574d6e34b129a01",
   "outputs": [],
   "execution_count": 21
  },
  {
   "metadata": {
    "ExecuteTime": {
     "end_time": "2024-11-10T19:36:08.556648Z",
     "start_time": "2024-11-10T19:36:08.554897Z"
    }
   },
   "cell_type": "code",
   "source": "tf_idf = TfidfVectorizer(analyzer='word',stop_words='english')",
   "id": "ae081dd40ebbf15",
   "outputs": [],
   "execution_count": 22
  },
  {
   "metadata": {
    "ExecuteTime": {
     "end_time": "2024-11-10T19:36:09.354441Z",
     "start_time": "2024-11-10T19:36:08.569155Z"
    }
   },
   "cell_type": "code",
   "source": [
    "# Model Trained \n",
    "matrix = tf_idf.fit_transform(token_df)"
   ],
   "id": "88e1a1d70e273be5",
   "outputs": [],
   "execution_count": 23
  },
  {
   "metadata": {
    "ExecuteTime": {
     "end_time": "2024-11-10T19:36:12.605653Z",
     "start_time": "2024-11-10T19:36:09.362080Z"
    }
   },
   "cell_type": "code",
   "source": [
    "def batch_cosine_similarity(matrix, batch_size=1000):\n",
    "    n = matrix.shape[0]\n",
    "    similarities = np.zeros((n, n))\n",
    "    for i in range(0, n, batch_size):\n",
    "        end_i = min(i + batch_size, n)\n",
    "        similarities[i:end_i] = cosine_similarity(matrix[i:end_i], matrix)\n",
    "    return similarities\n",
    "\n",
    "# Usage\n",
    "similarities = batch_cosine_similarity(matrix)"
   ],
   "id": "9bf1e1e79af47f96",
   "outputs": [],
   "execution_count": 24
  },
  {
   "metadata": {
    "ExecuteTime": {
     "end_time": "2024-11-10T19:36:12.614451Z",
     "start_time": "2024-11-10T19:36:12.611837Z"
    }
   },
   "cell_type": "code",
   "source": "similarities[0]",
   "id": "920b3802c8f1860f",
   "outputs": [
    {
     "data": {
      "text/plain": [
       "array([1.        , 0.02263898, 0.01709689, ..., 0.02799659, 0.01462707,\n",
       "       0.02644462])"
      ]
     },
     "execution_count": 25,
     "metadata": {},
     "output_type": "execute_result"
    }
   ],
   "execution_count": 25
  },
  {
   "metadata": {},
   "cell_type": "markdown",
   "source": "# Recommender Function",
   "id": "cec46210a0f6fac9"
  },
  {
   "metadata": {
    "ExecuteTime": {
     "end_time": "2024-11-10T19:36:12.629612Z",
     "start_time": "2024-11-10T19:36:12.626818Z"
    }
   },
   "cell_type": "code",
   "source": [
    "def recommender(song_name):\n",
    "    idx = df[df['song'] == song_name].index[0]\n",
    "    # Sort the similarities in descending order based on similarity scores\n",
    "    distance = sorted(list(enumerate(similarities[idx])), reverse=True, key=lambda x: x[1])\n",
    "    \n",
    "    song = []\n",
    "    # Get the top 5 most similar songs, excluding the first one (which is the song itself)\n",
    "    for s_id in distance[1:6]:\n",
    "        song.append(df.iloc[s_id[0]].song)\n",
    "    \n",
    "    return song\n"
   ],
   "id": "6acd436424593a2",
   "outputs": [],
   "execution_count": 26
  },
  {
   "metadata": {
    "ExecuteTime": {
     "end_time": "2024-11-10T19:36:12.649224Z",
     "start_time": "2024-11-10T19:36:12.640506Z"
    }
   },
   "cell_type": "code",
   "source": "recommender('I Love You')",
   "id": "2f940a730ef2e61c",
   "outputs": [
    {
     "data": {
      "text/plain": [
       "['I Love You, Earth',\n",
       " 'Love',\n",
       " \"There's Nothing Better Than Love\",\n",
       " 'I Do Love You',\n",
       " 'Who Do You Love']"
      ]
     },
     "execution_count": 27,
     "metadata": {},
     "output_type": "execute_result"
    }
   ],
   "execution_count": 27
  },
  {
   "metadata": {
    "ExecuteTime": {
     "end_time": "2024-11-10T19:36:13.584103Z",
     "start_time": "2024-11-10T19:36:12.659845Z"
    }
   },
   "cell_type": "code",
   "source": [
    "import pickle\n",
    "pickle.dump(similarities,open(\"similarities.pkl\",'wb'))\n",
    "pickle.dump(df,open(\"df.pkl\",\"wb\"))"
   ],
   "id": "dc0164d196780ac7",
   "outputs": [],
   "execution_count": 28
  }
 ],
 "metadata": {
  "kernelspec": {
   "display_name": "Python 3",
   "language": "python",
   "name": "python3"
  },
  "language_info": {
   "codemirror_mode": {
    "name": "ipython",
    "version": 2
   },
   "file_extension": ".py",
   "mimetype": "text/x-python",
   "name": "python",
   "nbconvert_exporter": "python",
   "pygments_lexer": "ipython2",
   "version": "2.7.6"
  }
 },
 "nbformat": 4,
 "nbformat_minor": 5
}
